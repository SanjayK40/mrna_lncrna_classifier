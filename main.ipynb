{
  "cells": [
    {
      "cell_type": "code",
      "execution_count": null,
      "metadata": {},
      "outputs": [],
      "source": [
        "!pip install Bio\n",
        "import numpy as np\n",
        "import pandas as pd\n",
        "import tensorflow as tf\n",
        "from tensorflow.keras import datasets, layers, models\n",
        "from tensorflow.keras.layers import Conv2D,MaxPooling2D,Dropout,Flatten,Dense\n",
        "from tensorflow.keras.metrics import binary_crossentropy,categorical_crossentropy\n",
        "from tensorflow.keras.optimizers.experimental import Adam,Adadelta\n",
        "from keras.models import Sequential\n",
        "from keras.callbacks import ModelCheckpoint\n",
        "from Bio import SeqIO\n",
        "from sklearn.model_selection import train_test_split\n",
        "from sklearn.preprocessing import LabelEncoder\n",
        "from tensorflow.keras.utils import to_categorical\n",
        "\n",
        "from sklearn.svm import SVC\n",
        "from sklearn.ensemble import GradientBoostingClassifier\n",
        "\n",
        "import matplotlib.pyplot as plt\n",
        "from sklearn.metrics import accuracy_score, f1_score, roc_curve, auc, precision_score, recall_score, confusion_matrix\n",
        "from sklearn.preprocessing import label_binarize\n",
        "from sklearn.multiclass import OneVsRestClassifier\n",
        "from scipy import interp\n",
        "from sklearn.metrics import multilabel_confusion_matrix\n",
        "import joblib\n",
        "from tensorflow.keras.models import save_model as save_keras_model"
      ]
    },
    {
      "cell_type": "code",
      "execution_count": null,
      "metadata": {},
      "outputs": [],
      "source": [
        "import utils\n",
        "from models import train_cnn,train_svm,train_xgboost\n",
        "import os"
      ]
    },
    {
      "cell_type": "code",
      "execution_count": 9,
      "metadata": {
        "id": "FVqVn3yhvEPS"
      },
      "outputs": [],
      "source": [
        "df1,df2,df3,df4,df5=utils.preprocess(path_to_marna,path_to_lncrna)\n"
      ]
    },
    {
      "cell_type": "code",
      "execution_count": null,
      "metadata": {},
      "outputs": [],
      "source": [
        "X_train_cnn, X_val_cnn, y_train_cnn, y_val_cnn=utils.split_cnn(df2)\n",
        "X_train_ml, X_val_ml, y_train_ml, y_val_ml=utils.split_ml(df2)\n",
        "model_cnn1=train_cnn(X_train_cnn,y_train_cnn,100)\n",
        "model_svm1=train_svm(X_train_ml,y_train_ml)\n",
        "model_xgboost1=train_xgboost(X_train_ml,y_train_ml)\n",
        "\n",
        "utils.evaluate_cnn(model_cnn1,X_val_cnn,y_val_cnn)\n",
        "utils.evaluate_ml(model_svm1,X_val_ml,y_val_ml,'svm')\n",
        "utils.evaluate_ml(model_xgboost1,X_val_ml,y_val_ml,'xgboost')\n",
        "\n",
        "utils.plot_cnn(model_cnn1,X_val_cnn,y_val_cnn)\n",
        "utils.plot_ml(model_svm1,X_val_ml,y_val_ml,'svm')\n",
        "utils.plot_ml(model_xgboost1,X_val_ml,y_val_ml,'xgboost')\n",
        "# Save trained models\n",
        "os.makedirs('trained_models/', exist_ok=True)\n",
        "utils.save_model(model_cnn1, 'models/model_cnn1')\n",
        "utils.save_model(model_svm1, 'models/model_svm1')\n",
        "utils.save_model(model_xgboost1, 'models/model_xgboost1')\n"
      ]
    },
    {
      "cell_type": "code",
      "execution_count": null,
      "metadata": {},
      "outputs": [],
      "source": [
        "X_train_cnn, X_val_cnn, y_train_cnn, y_val_cnn=utils.split_cnn(df3)\n",
        "X_train_ml, X_val_ml, y_train_ml, y_val_ml=utils.split_ml(df3)\n",
        "model_cnn2=train_cnn(X_train_cnn,y_train_cnn,100)\n",
        "model_svm2=train_svm(X_train_ml,y_train_ml)\n",
        "model_xgboost2=train_xgboost(X_train_ml,y_train_ml)\n",
        "\n",
        "utils.evaluate_cnn(model_cnn2,X_val_cnn,y_val_cnn)\n",
        "utils.evaluate_ml(model_svm2,X_val_ml,y_val_ml,'svm')\n",
        "utils.evaluate_ml(model_xgboost2,X_val_ml,y_val_ml,'xgboost')\n",
        "\n",
        "utils.plot_cnn(model_cnn2,X_val_cnn,y_val_cnn)\n",
        "utils.plot_ml(model_svm2,X_val_ml,y_val_ml,'svm')\n",
        "utils.plot_ml(model_xgboost2,X_val_ml,y_val_ml,'xgboost')\n",
        "# Save trained models\n",
        "os.makedirs('trained_models/', exist_ok=True)\n",
        "utils.save_model(model_cnn2, 'models/mode2_cnn2')\n",
        "utils.save_model(model_svm2, 'models/mode2_svm2')\n",
        "utils.save_model(model_xgboost2, 'models/mode2_xgboost2')"
      ]
    },
    {
      "cell_type": "code",
      "execution_count": null,
      "metadata": {},
      "outputs": [],
      "source": [
        "X_train_cnn, X_val_cnn, y_train_cnn, y_val_cnn=utils.split_cnn(df4)\n",
        "X_train_ml, X_val_ml, y_train_ml, y_val_ml=utils.split_ml(df4)\n",
        "\n",
        "model_cnn3=train_cnn(X_train_cnn,y_train_cnn,100)\n",
        "model_svm3=train_svm(X_train_ml,y_train_ml)\n",
        "model_xgboost3=train_xgboost(X_train_ml,y_train_ml)\n",
        "\n",
        "utils.evaluate_cnn(model_cnn3,X_val_cnn,y_val_cnn)\n",
        "utils.evaluate_ml(model_svm3,X_val_ml,y_val_ml,'svm')\n",
        "utils.evaluate_ml(model_xgboost3,X_val_ml,y_val_ml,'xgboost')\n",
        "\n",
        "utils.plot_cnn(model_cnn3,X_val_cnn,y_val_cnn)\n",
        "utils.plot_ml(model_svm3,X_val_ml,y_val_ml,'svm')\n",
        "utils.plot_ml(model_xgboost3,X_val_ml,y_val_ml,'xgboost')\n",
        "# Save trained models\n",
        "os.makedirs('trained_models/', exist_ok=True)\n",
        "utils.save_model(model_cnn3, 'models/model_cnn3')\n",
        "utils.save_model(model_svm3, 'models/model_svm3')\n",
        "utils.save_model(model_xgboost3, 'models/model_xgboost3')"
      ]
    }
  ],
  "metadata": {
    "colab": {
      "provenance": []
    },
    "kaggle": {
      "accelerator": "none",
      "dataSources": [],
      "dockerImageVersionId": 30626,
      "isGpuEnabled": false,
      "isInternetEnabled": true,
      "language": "python",
      "sourceType": "notebook"
    },
    "kernelspec": {
      "display_name": "Python 3",
      "language": "python",
      "name": "python3"
    },
    "language_info": {
      "codemirror_mode": {
        "name": "ipython",
        "version": 3
      },
      "file_extension": ".py",
      "mimetype": "text/x-python",
      "name": "python",
      "nbconvert_exporter": "python",
      "pygments_lexer": "ipython3",
      "version": "3.10.1"
    },
    "vscode": {
      "interpreter": {
        "hash": "70beaefdb309b8e1a048cbeafcedea4885a1e966deef6a4599dc4658902dbe95"
      }
    }
  },
  "nbformat": 4,
  "nbformat_minor": 0
}
